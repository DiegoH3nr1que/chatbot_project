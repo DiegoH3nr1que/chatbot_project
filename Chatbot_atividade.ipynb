{
 "cells": [
  {
   "cell_type": "markdown",
   "metadata": {
    "id": "mRs3QE1WTczL"
   },
   "source": [
    "# Bibliotecas"
   ]
  },
  {
   "cell_type": "code",
   "execution_count": 60,
   "metadata": {
    "colab": {
     "base_uri": "https://localhost:8080/"
    },
    "id": "CafFUwKZkVzH",
    "outputId": "d4d59f4c-e474-4873-e0fe-726e1cdd092b"
   },
   "outputs": [
    {
     "name": "stderr",
     "output_type": "stream",
     "text": [
      "[nltk_data] Downloading package punkt to C:\\Users\\Diego\n",
      "[nltk_data]     Henrique\\AppData\\Roaming\\nltk_data...\n",
      "[nltk_data]   Package punkt is already up-to-date!\n",
      "[nltk_data] Downloading package punkt_tab to C:\\Users\\Diego\n",
      "[nltk_data]     Henrique\\AppData\\Roaming\\nltk_data...\n",
      "[nltk_data]   Package punkt_tab is already up-to-date!\n",
      "[nltk_data] Downloading package rslp to C:\\Users\\Diego\n",
      "[nltk_data]     Henrique\\AppData\\Roaming\\nltk_data...\n",
      "[nltk_data]   Package rslp is already up-to-date!\n",
      "[nltk_data] Downloading package stopwords to C:\\Users\\Diego\n",
      "[nltk_data]     Henrique\\AppData\\Roaming\\nltk_data...\n",
      "[nltk_data]   Package stopwords is already up-to-date!\n",
      "[nltk_data] Downloading package mac_morpho to C:\\Users\\Diego\n",
      "[nltk_data]     Henrique\\AppData\\Roaming\\nltk_data...\n",
      "[nltk_data]   Package mac_morpho is already up-to-date!\n"
     ]
    }
   ],
   "source": [
    "import itertools\n",
    "import nltk\n",
    "from nltk.tokenize import word_tokenize\n",
    "from nltk.corpus import stopwords\n",
    "from nltk.corpus import mac_morpho\n",
    "from nltk.tag import UnigramTagger\n",
    "from nltk import pos_tag\n",
    "from nltk.stem import RSLPStemmer\n",
    "\n",
    "nltk.download('punkt')\n",
    "nltk.download('punkt_tab')\n",
    "nltk.download('rslp')\n",
    "nltk.download('stopwords')\n",
    "nltk.download('mac_morpho')\n",
    "\n",
    "stemmer = RSLPStemmer()"
   ]
  },
  {
   "cell_type": "markdown",
   "metadata": {
    "id": "QY8kLaUhTW93"
   },
   "source": [
    "# Arvore - Estrutura"
   ]
  },
  {
   "cell_type": "code",
   "execution_count": 61,
   "metadata": {
    "id": "tjBzwPitTONj"
   },
   "outputs": [],
   "source": [
    "class Node:\n",
    "  def __init__(self, value):\n",
    "    self.value = value\n",
    "    self.children = []"
   ]
  },
  {
   "cell_type": "code",
   "execution_count": 62,
   "metadata": {
    "id": "_--pBDTrTSn_"
   },
   "outputs": [],
   "source": [
    "class Tree:\n",
    "  def __init__(self, value):\n",
    "    self.root = Node(value)\n",
    "\n",
    "  def add_child(self, parent_value, value, stem=False):\n",
    "    if stem:\n",
    "      value = stemmer.stem(value)\n",
    "\n",
    "    parent_node = self.search(parent_value)\n",
    "    if parent_node:\n",
    "      parent_node.children.append(Node(value))\n",
    "    else:\n",
    "      print(f\"Parent node with value {parent_value} not found.\")\n",
    "\n",
    "  def search(self, value, node=None):\n",
    "    if node is None:\n",
    "      node = self.root\n",
    "\n",
    "    if node.value == value or node.value == stemmer.stem(value):\n",
    "      return node\n",
    "\n",
    "    for child in node.children:\n",
    "      result = self.search(value, child)\n",
    "      if result:\n",
    "        return result\n",
    "    return None\n",
    "\n",
    "  def print(self, node=None, level=0):\n",
    "    if node is None:\n",
    "      node = self.root\n",
    "\n",
    "    print(\"  \" * level + str(node.value))\n",
    "    for child in node.children:\n",
    "      self.print(child, level+1)\n",
    "\n",
    "  def find_answer(self, entity, intent):\n",
    "    entity_stem = stemmer.stem(entity)\n",
    "    intent_stem = stemmer.stem(intent)\n",
    "\n",
    "    entity_node = self.search(entity_stem)\n",
    "    if entity_node:\n",
    "      for child in entity_node.children:\n",
    "        if child.value == intent_stem:\n",
    "          return child.children[0].value\n",
    "    return None\n",
    "\n",
    "  def search_in_level(self, value, level, current_level=0, node=None):\n",
    "    if node is None:\n",
    "        node = self.root\n",
    "\n",
    "    # Se o nível atual for o nível desejado, faz a busca neste nível\n",
    "    if current_level == level:\n",
    "        if node.value == value or node.value == stemmer.stem(value):\n",
    "            return node\n",
    "        return None\n",
    "\n",
    "    # Se não está no nível correto, percorre os filhos\n",
    "    for child in node.children:\n",
    "        result = self.search_in_level(value, level, current_level + 1, child)\n",
    "        if result:\n",
    "            return result\n",
    "\n",
    "    return None"
   ]
  },
  {
   "cell_type": "markdown",
   "metadata": {
    "id": "HMDwQYLRTn2f"
   },
   "source": [
    "# Arvore - Dados do Chatbot"
   ]
  },
  {
   "cell_type": "code",
   "execution_count": 63,
   "metadata": {
    "colab": {
     "base_uri": "https://localhost:8080/"
    },
    "id": "W5C6E_sKTr2U",
    "outputId": "6845ca54-2bc3-4eef-9e6e-39405ed826ac"
   },
   "outputs": [
    {
     "name": "stdout",
     "output_type": "stream",
     "text": [
      "personagens\n",
      "  batman\n",
      "    nom\n",
      "      O nome verdadeiro do Batman é Bruce Wayne, um bilionário, filantropo e gênio.\n",
      "    idad\n",
      "      Bruce Wayne tem aproximadamente 35 anos de idade nos quadrinhos, embora isso varie dependendo da adaptação.\n",
      "    hist\n",
      "      Bruce Wayne perdeu seus pais, Thomas e Martha Wayne, aos 8 anos de idade em um assalto, evento que o motivou a se tornar o vigilante conhecido como Batman.\n",
      "  flash\n",
      "    pod\n",
      "      O Flash possui o poder da supervelocidade, permitindo-lhe correr mais rápido que a luz, viajar no tempo e acessar a Força de Aceleração.\n",
      "    inimig\n",
      "      Os principais inimigos do Flash incluem Flash Reverso, Capitão Frio, Gorila Grodd e Mestre dos Espelhos.\n",
      "    fraqu\n",
      "      A fraqueza do Flash está na sua dependência da Força de Aceleração. Se desconectado dela, ele perde seus poderes.\n",
      "  cassandr\n",
      "    habil\n",
      "      Cassandra possui habilidades telepáticas avançadas, incluindo a capacidade de ler mentes, projetar pensamentos e influenciar as ações de outras pessoas.\n",
      "    orig\n",
      "      A origem de Cassandra é envolta em mistério. Ela é frequentemente associada à família de mutantes liderada pelo Professor Xavier, mas detalhes sobre seu passado são escassos e pouco explorados.\n",
      "    irm\n",
      "      O irmão de Cassandra é o Professor Charles Xavier, líder dos X-Men, com quem ela compartilha uma conexão telepática e um histórico conflituoso.\n",
      "  deadpool\n",
      "    doenç\n",
      "      A doença de Deadpool é um câncer terminal que foi tratado com um experimento, resultando em sua imortalidade e regeneração acelerada.\n",
      "    capac\n",
      "      Deadpool possui uma capacidade de regeneração extremamente avançada, que o torna praticamente imortal e capaz de sobreviver a ferimentos fatais.\n",
      "    amig\n",
      "      Deadpool tem Wolverine como um de seus principais aliados em algumas histórias, além de amizades ocasionais com Cable e Domino.\n",
      "  wolverin\n",
      "    arm\n",
      "      O Wolverine utiliza suas garras revestidas de adamantium como arma principal, além de sua força sobre-humana e instintos aguçados.\n",
      "    famil\n",
      "      O Wolverine teve uma infância conturbada, marcada por perdas e tragédias, incluindo a morte de seus pais biológicos e adotivos. Essas experiências moldaram sua personalidade solitária.\n",
      "    ano\n",
      "      O Wolverine possui mais de 100 anos de vida, graças ao seu fator de cura que retarda significativamente seu envelhecimento.\n"
     ]
    }
   ],
   "source": [
    "tree = Tree(\"personagens\")\n",
    "\n",
    "# Nós principais\n",
    "tree.add_child(\"personagens\", \"Batman\", True)\n",
    "tree.add_child(\"personagens\", \"Flash\", True)\n",
    "tree.add_child(\"personagens\", \"Cassandra\", True)\n",
    "tree.add_child(\"personagens\", \"Deadpool\", True)\n",
    "tree.add_child(\"personagens\", \"Wolverine\", True)\n",
    "\n",
    "# Batman\n",
    "tree.add_child(\"Batman\", \"nome\", True)\n",
    "tree.add_child(\"nome\", \"O nome verdadeiro do Batman é Bruce Wayne, um bilionário, filantropo e gênio.\")\n",
    "\n",
    "tree.add_child(\"Batman\", \"idade\", True)\n",
    "tree.add_child(\"idade\", \"Bruce Wayne tem aproximadamente 35 anos de idade nos quadrinhos, embora isso varie dependendo da adaptação.\")\n",
    "\n",
    "tree.add_child(\"Batman\", \"historia\", True)\n",
    "tree.add_child(\"historia\", \"Bruce Wayne perdeu seus pais, Thomas e Martha Wayne, aos 8 anos de idade em um assalto, evento que o motivou a se tornar o vigilante conhecido como Batman.\")\n",
    "\n",
    "#Flash\n",
    "tree.add_child(\"Flash\", \"poderes\", True)\n",
    "tree.add_child(\"poderes\", \"O Flash possui o poder da supervelocidade, permitindo-lhe correr mais rápido que a luz, viajar no tempo e acessar a Força de Aceleração.\")\n",
    "\n",
    "tree.add_child(\"Flash\", \"inimigos\", True)\n",
    "tree.add_child(\"inimigos\", \"Os principais inimigos do Flash incluem Flash Reverso, Capitão Frio, Gorila Grodd e Mestre dos Espelhos.\")\n",
    "\n",
    "tree.add_child(\"Flash\", \"fraqueza\", True)\n",
    "tree.add_child(\"fraqueza\", \"A fraqueza do Flash está na sua dependência da Força de Aceleração. Se desconectado dela, ele perde seus poderes.\")\n",
    "\n",
    "\n",
    "# Cassandra\n",
    "tree.add_child(\"Cassandra\", \"habilidades\", True)\n",
    "tree.add_child(\"habilidades\", \"Cassandra possui habilidades telepáticas avançadas, incluindo a capacidade de ler mentes, projetar pensamentos e influenciar as ações de outras pessoas.\")\n",
    "tree.add_child(\"Cassandra\", \"origem\", True)\n",
    "tree.add_child(\"origem\", \"A origem de Cassandra é envolta em mistério. Ela é frequentemente associada à família de mutantes liderada pelo Professor Xavier, mas detalhes sobre seu passado são escassos e pouco explorados.\")\n",
    "tree.add_child(\"Cassandra\", \"irmão\", True)\n",
    "tree.add_child(\"irmão\", \"O irmão de Cassandra é o Professor Charles Xavier, líder dos X-Men, com quem ela compartilha uma conexão telepática e um histórico conflituoso.\")\n",
    "\n",
    "# Deadpool\n",
    "tree.add_child(\"Deadpool\", \"doença\", True)\n",
    "tree.add_child(\"doença\", \"A doença de Deadpool é um câncer terminal que foi tratado com um experimento, resultando em sua imortalidade e regeneração acelerada.\")\n",
    "tree.add_child(\"Deadpool\", \"capacidade\", True)\n",
    "tree.add_child(\"capacidade\", \"Deadpool possui uma capacidade de regeneração extremamente avançada, que o torna praticamente imortal e capaz de sobreviver a ferimentos fatais.\")\n",
    "tree.add_child(\"Deadpool\", \"amigos\", True)\n",
    "tree.add_child(\"amigos\", \"Deadpool tem Wolverine como um de seus principais aliados em algumas histórias, além de amizades ocasionais com Cable e Domino.\")\n",
    "\n",
    "# Wolverine\n",
    "tree.add_child(\"Wolverine\", \"armas\", True)\n",
    "tree.add_child(\"armas\", \"O Wolverine utiliza suas garras revestidas de adamantium como arma principal, além de sua força sobre-humana e instintos aguçados.\")\n",
    "tree.add_child(\"Wolverine\", \"familia\", True)\n",
    "tree.add_child(\"familia\", \"O Wolverine teve uma infância conturbada, marcada por perdas e tragédias, incluindo a morte de seus pais biológicos e adotivos. Essas experiências moldaram sua personalidade solitária.\")\n",
    "tree.add_child(\"Wolverine\", \"anos\", True)\n",
    "tree.add_child(\"anos\", \"O Wolverine possui mais de 100 anos de vida, graças ao seu fator de cura que retarda significativamente seu envelhecimento.\")\n",
    "\n",
    "tree.print()"
   ]
  },
  {
   "cell_type": "markdown",
   "metadata": {
    "id": "qz0KfFxW4Z29"
   },
   "source": [
    "# Dados para a consulta"
   ]
  },
  {
   "cell_type": "code",
   "execution_count": 64,
   "metadata": {
    "colab": {
     "base_uri": "https://localhost:8080/",
     "height": 331
    },
    "id": "6MHIaUkl30-Y",
    "outputId": "8b0d82aa-5a18-4c0c-dc37-edd5a796deb0"
   },
   "outputs": [
    {
     "data": {
      "text/html": [
       "<div>\n",
       "<style scoped>\n",
       "    .dataframe tbody tr th:only-of-type {\n",
       "        vertical-align: middle;\n",
       "    }\n",
       "\n",
       "    .dataframe tbody tr th {\n",
       "        vertical-align: top;\n",
       "    }\n",
       "\n",
       "    .dataframe thead th {\n",
       "        text-align: right;\n",
       "    }\n",
       "</style>\n",
       "<table border=\"1\" class=\"dataframe\">\n",
       "  <thead>\n",
       "    <tr style=\"text-align: right;\">\n",
       "      <th></th>\n",
       "      <th>Personagem</th>\n",
       "      <th>Poder</th>\n",
       "    </tr>\n",
       "  </thead>\n",
       "  <tbody>\n",
       "    <tr>\n",
       "      <th>0</th>\n",
       "      <td>Batman</td>\n",
       "      <td>Sem poderes</td>\n",
       "    </tr>\n",
       "    <tr>\n",
       "      <th>1</th>\n",
       "      <td>Flash</td>\n",
       "      <td>Velocidade</td>\n",
       "    </tr>\n",
       "    <tr>\n",
       "      <th>2</th>\n",
       "      <td>Cassandra</td>\n",
       "      <td>Telepatia</td>\n",
       "    </tr>\n",
       "    <tr>\n",
       "      <th>3</th>\n",
       "      <td>Deadpool</td>\n",
       "      <td>Regeneração</td>\n",
       "    </tr>\n",
       "    <tr>\n",
       "      <th>4</th>\n",
       "      <td>Wolverine</td>\n",
       "      <td>Regeneração/Garras</td>\n",
       "    </tr>\n",
       "  </tbody>\n",
       "</table>\n",
       "</div>"
      ],
      "text/plain": [
       "  Personagem               Poder\n",
       "0     Batman         Sem poderes\n",
       "1      Flash          Velocidade\n",
       "2  Cassandra           Telepatia\n",
       "3   Deadpool         Regeneração\n",
       "4  Wolverine  Regeneração/Garras"
      ]
     },
     "execution_count": 64,
     "metadata": {},
     "output_type": "execute_result"
    }
   ],
   "source": [
    "import pandas as pd\n",
    "\n",
    "df = pd.DataFrame({\n",
    "    'Personagem': ['Batman', 'Flash', 'Cassandra', 'Deadpool', 'Wolverine'],\n",
    "    'Poder': ['Sem poderes', 'Velocidade', 'Telepatia', 'Regeneração', 'Regeneração/Garras']\n",
    "})\n",
    "\n",
    "df\n"
   ]
  },
  {
   "cell_type": "markdown",
   "metadata": {
    "id": "fkfrBSNvTqWt"
   },
   "source": [
    "# Chatbot"
   ]
  },
  {
   "cell_type": "code",
   "execution_count": 65,
   "metadata": {
    "id": "p5Flffj0Tsbd"
   },
   "outputs": [],
   "source": [
    "train_sents = mac_morpho.tagged_sents()\n",
    "tagger = UnigramTagger(train_sents)"
   ]
  },
  {
   "cell_type": "code",
   "execution_count": 66,
   "metadata": {
    "id": "6oUunR7blN_7"
   },
   "outputs": [],
   "source": [
    "def extract_entities_and_intentions(question):\n",
    "  stop_words = set(stopwords.words(\"portuguese\"))\n",
    "  tokens = word_tokenize(question.lower())\n",
    "  tokens_clean = [ word for word in tokens if word not in stop_words and word.isalpha() ]\n",
    "\n",
    "  tagged_tokens = tagger.tag(tokens_clean)\n",
    "\n",
    "  entities = []\n",
    "  intention = []\n",
    "\n",
    "  for token, tag in tagged_tokens:\n",
    "    if tree.search_in_level(stemmer.stem(token), 1):\n",
    "      entities.append(stemmer.stem(token))\n",
    "    elif tree.search_in_level(stemmer.stem(token), 2):\n",
    "      intention.append(stemmer.stem(token))\n",
    "\n",
    "  return entities, intention"
   ]
  },
  {
   "cell_type": "code",
   "execution_count": 67,
   "metadata": {
    "id": "4T3yrU9yofsu"
   },
   "outputs": [],
   "source": [
    "def find_answer_in_tree(question):\n",
    "  entities, intentions = extract_entities_and_intentions(question)\n",
    "  print(f\"Entities: {entities}, Intentions: {intentions}\")\n",
    "\n",
    "  entities_intentions = [[x, y] for x, y in itertools.product(entities, intentions)]\n",
    "  for entity, intention in entities_intentions:\n",
    "    answer = tree.find_answer(entity, intention)\n",
    "    if answer:\n",
    "      return answer\n",
    "  return \"Desculpe, não consegui entender sua pergunta.\"\n"
   ]
  },
  {
   "cell_type": "code",
   "execution_count": 68,
   "metadata": {
    "id": "Ye97hOzq4iAq"
   },
   "outputs": [],
   "source": [
    "def consult(df):\n",
    "  quant = len(df)\n",
    "\n",
    "  return f\"Existem {quant} personagens\""
   ]
  },
  {
   "cell_type": "code",
   "execution_count": 69,
   "metadata": {
    "id": "uN6u0Ft5sNK2"
   },
   "outputs": [],
   "source": [
    "def chatbot(question):\n",
    "  print(f\"Person: {question}\")\n",
    "  answer = find_answer_in_tree(question)\n",
    "\n",
    "  if answer.startswith(\"f:\"):\n",
    "    print(f\"Chat: {consult(df)}\")\n",
    "  else:\n",
    "    print(f\"Chat: {answer}\")"
   ]
  },
  {
   "cell_type": "code",
   "execution_count": 72,
   "metadata": {
    "colab": {
     "base_uri": "https://localhost:8080/"
    },
    "id": "1ybBeg1a5ptT",
    "outputId": "566534b0-0cc5-47b8-d44a-2eb3afca06f1"
   },
   "outputs": [
    {
     "name": "stdout",
     "output_type": "stream",
     "text": [
      "Person: Quem é o irmão da Cassandra?\n",
      "Entities: ['cassandr'], Intentions: ['irm']\n",
      "Chat: O irmão de Cassandra é o Professor Charles Xavier, líder dos X-Men, com quem ela compartilha uma conexão telepática e um histórico conflituoso.\n"
     ]
    }
   ],
   "source": [
    "questions = [\"Quem é o irmão da Cassandra?\"]\n",
    "for question in questions:\n",
    "  chatbot(question)"
   ]
  }
 ],
 "metadata": {
  "colab": {
   "provenance": []
  },
  "kernelspec": {
   "display_name": "Python 3",
   "name": "python3"
  },
  "language_info": {
   "codemirror_mode": {
    "name": "ipython",
    "version": 3
   },
   "file_extension": ".py",
   "mimetype": "text/x-python",
   "name": "python",
   "nbconvert_exporter": "python",
   "pygments_lexer": "ipython3",
   "version": "3.11.4"
  }
 },
 "nbformat": 4,
 "nbformat_minor": 0
}
